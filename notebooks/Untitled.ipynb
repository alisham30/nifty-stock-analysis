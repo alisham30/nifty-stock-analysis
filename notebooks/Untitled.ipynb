{
 "cells": [
  {
   "cell_type": "code",
   "execution_count": 8,
   "id": "6ac57836-0de8-4356-a251-1d787812a456",
   "metadata": {},
   "outputs": [
    {
     "data": {
      "text/html": [
       "\n",
       "            <div>\n",
       "                <p><b>SparkSession - in-memory</b></p>\n",
       "                \n",
       "        <div>\n",
       "            <p><b>SparkContext</b></p>\n",
       "\n",
       "            <p><a href=\"http://fa52d6189c12:4040\">Spark UI</a></p>\n",
       "\n",
       "            <dl>\n",
       "              <dt>Version</dt>\n",
       "                <dd><code>v3.5.0</code></dd>\n",
       "              <dt>Master</dt>\n",
       "                <dd><code>local[*]</code></dd>\n",
       "              <dt>AppName</dt>\n",
       "                <dd><code>NiftyStockAnalysis</code></dd>\n",
       "            </dl>\n",
       "        </div>\n",
       "        \n",
       "            </div>\n",
       "        "
      ],
      "text/plain": [
       "<pyspark.sql.session.SparkSession at 0x78b3f6ef29d0>"
      ]
     },
     "execution_count": 8,
     "metadata": {},
     "output_type": "execute_result"
    }
   ],
   "source": [
    "from pyspark.sql import SparkSession\n",
    "\n",
    "\n",
    "spark = SparkSession.builder \\\n",
    "    .appName(\"NiftyStockAnalysis\") \\\n",
    "    .getOrCreate()\n",
    "\n",
    "spark\n"
   ]
  },
  {
   "cell_type": "code",
   "execution_count": 9,
   "id": "3e964793-3c03-4370-9006-1e868b14794c",
   "metadata": {},
   "outputs": [
    {
     "name": "stdout",
     "output_type": "stream",
     "text": [
      "root\n",
      " |-- Date: string (nullable = true)\n",
      " |-- Symbol: string (nullable = true)\n",
      " |-- Series: string (nullable = true)\n",
      " |-- Prev Close: string (nullable = true)\n",
      " |-- Open: string (nullable = true)\n",
      " |-- High: double (nullable = true)\n",
      " |-- Low: double (nullable = true)\n",
      " |-- Last: double (nullable = true)\n",
      " |-- Close: double (nullable = true)\n",
      " |-- VWAP: double (nullable = true)\n",
      " |-- Volume: integer (nullable = true)\n",
      " |-- Turnover: double (nullable = true)\n",
      " |-- Trades: double (nullable = true)\n",
      " |-- Deliverable Volume: double (nullable = true)\n",
      " |-- %Deliverble: double (nullable = true)\n",
      "\n",
      "+----------+----------+------+----------+------+------+-----+-----+------+------+--------+-----------------+------+------------------+-----------+\n",
      "|      Date|    Symbol|Series|Prev Close|  Open|  High|  Low| Last| Close|  VWAP|  Volume|         Turnover|Trades|Deliverable Volume|%Deliverble|\n",
      "+----------+----------+------+----------+------+------+-----+-----+------+------+--------+-----------------+------+------------------+-----------+\n",
      "|2007-11-27|MUNDRAPORT|    EQ|     440.0| 770.0|1050.0|770.0|959.0| 962.9|984.72|27294366|2.687719053785E15|  NULL|         9859619.0|     0.3612|\n",
      "|2007-11-28|MUNDRAPORT|    EQ|     962.9| 984.0| 990.0|874.0|885.0| 893.9|941.38| 4581338| 4.31276530165E14|  NULL|         1453278.0|     0.3172|\n",
      "|2007-11-29|MUNDRAPORT|    EQ|     893.9| 909.0|914.75|841.0|887.0| 884.2|888.09| 5124121| 4.55065846265E14|  NULL|         1069678.0|     0.2088|\n",
      "|2007-11-30|MUNDRAPORT|    EQ|     884.2| 890.0| 958.0|890.0|929.0|921.55|929.17| 4609762|  4.2832566283E14|  NULL|         1260913.0|     0.2735|\n",
      "|2007-12-03|MUNDRAPORT|    EQ|    921.55|939.75| 995.0|922.0|980.0| 969.3|965.65| 2977470|   2.875199743E14|  NULL|          816123.0|     0.2741|\n",
      "+----------+----------+------+----------+------+------+-----+-----+------+------+--------+-----------------+------+------------------+-----------+\n",
      "only showing top 5 rows\n",
      "\n"
     ]
    }
   ],
   "source": [
    "from pyspark.sql import functions as F\n",
    "\n",
    "\n",
    "df = spark.read.csv(\"/home/jovyan/work/data/*.csv\", header=True, inferSchema=True)\n",
    "\n",
    "\n",
    "df.printSchema()\n",
    "df.show(5)\n"
   ]
  },
  {
   "cell_type": "code",
   "execution_count": 10,
   "id": "72e08797-0126-46d9-af42-6d501301225e",
   "metadata": {},
   "outputs": [
    {
     "name": "stdout",
     "output_type": "stream",
     "text": [
      "+----------+----------+------+----------+-------------------+\n",
      "|      Date|    Symbol| Close|Prev_Close|       Daily_Return|\n",
      "+----------+----------+------+----------+-------------------+\n",
      "|2008-05-26|BAJAJ-AUTO|604.75|      NULL|               NULL|\n",
      "|2008-05-26|BAJAJ-AUTO|604.75|    604.75|                0.0|\n",
      "|2008-05-27|BAJAJ-AUTO|593.15|    604.75|-1.9181479950392761|\n",
      "|2008-05-27|BAJAJ-AUTO|593.15|    593.15|                0.0|\n",
      "|2008-05-28|BAJAJ-AUTO|608.15|    593.15| 2.5288712804518254|\n",
      "|2008-05-28|BAJAJ-AUTO|608.15|    608.15|                0.0|\n",
      "|2008-05-29|BAJAJ-AUTO|599.45|    608.15|-1.4305681164186357|\n",
      "|2008-05-29|BAJAJ-AUTO|599.45|    599.45|                0.0|\n",
      "|2008-05-30|BAJAJ-AUTO| 571.7|    599.45|-4.6292434731837515|\n",
      "|2008-05-30|BAJAJ-AUTO| 571.7|     571.7|                0.0|\n",
      "+----------+----------+------+----------+-------------------+\n",
      "only showing top 10 rows\n",
      "\n"
     ]
    }
   ],
   "source": [
    "from pyspark.sql.window import Window\n",
    "\n",
    "# 1. Convert Date column to proper date type\n",
    "df = df.withColumn(\"Date\", F.to_date(\"Date\", \"yyyy-MM-dd\"))\n",
    "\n",
    "# 2. Define window per stock, ordered by Date\n",
    "window_spec = Window.partitionBy(\"Symbol\").orderBy(\"Date\")\n",
    "\n",
    "# 3. Previous day's close\n",
    "df = df.withColumn(\"Prev_Close\", F.lag(\"Close\").over(window_spec))\n",
    "\n",
    "# 4. Daily return = % change\n",
    "df = df.withColumn(\n",
    "    \"Daily_Return\",\n",
    "    ((F.col(\"Close\") - F.col(\"Prev_Close\")) / F.col(\"Prev_Close\")) * 100\n",
    ")\n",
    "\n",
    "\n",
    "df.select(\"Date\", \"Symbol\", \"Close\", \"Prev_Close\", \"Daily_Return\").show(10)\n"
   ]
  },
  {
   "cell_type": "code",
   "execution_count": 11,
   "id": "1d7aa411-fc37-4ebf-bbba-f9b7250cb438",
   "metadata": {},
   "outputs": [
    {
     "name": "stdout",
     "output_type": "stream",
     "text": [
      "+----------+----------+------+--------------------+---------+--------------------+-----------+\n",
      "|      Date|    Symbol| Close|        Daily_Return|Shock_Day|     Next_Day_Return|Bounce_Back|\n",
      "+----------+----------+------+--------------------+---------+--------------------+-----------+\n",
      "|2008-05-26|BAJAJ-AUTO|604.75|                NULL|        0|                 0.0|          0|\n",
      "|2008-05-26|BAJAJ-AUTO|604.75|                 0.0|        0| -1.9181479950392761|          0|\n",
      "|2008-05-27|BAJAJ-AUTO|593.15| -1.9181479950392761|        0|                 0.0|          0|\n",
      "|2008-05-27|BAJAJ-AUTO|593.15|                 0.0|        0|  2.5288712804518254|          1|\n",
      "|2008-05-28|BAJAJ-AUTO|608.15|  2.5288712804518254|        0|                 0.0|          0|\n",
      "|2008-05-28|BAJAJ-AUTO|608.15|                 0.0|        0| -1.4305681164186357|          0|\n",
      "|2008-05-29|BAJAJ-AUTO|599.45| -1.4305681164186357|        0|                 0.0|          0|\n",
      "|2008-05-29|BAJAJ-AUTO|599.45|                 0.0|        0| -4.6292434731837515|          0|\n",
      "|2008-05-30|BAJAJ-AUTO| 571.7| -4.6292434731837515|        1|                 0.0|          0|\n",
      "|2008-05-30|BAJAJ-AUTO| 571.7|                 0.0|        0|   1.591743921637206|          1|\n",
      "|2008-06-02|BAJAJ-AUTO| 580.8|   1.591743921637206|        0|                 0.0|          0|\n",
      "|2008-06-02|BAJAJ-AUTO| 580.8|                 0.0|        0|-0.18939393939392374|          0|\n",
      "|2008-06-03|BAJAJ-AUTO| 579.7|-0.18939393939392374|        0|                 0.0|          0|\n",
      "|2008-06-03|BAJAJ-AUTO| 579.7|                 0.0|        0|  -4.761083318958086|          0|\n",
      "|2008-06-04|BAJAJ-AUTO| 552.1|  -4.761083318958086|        1|                 0.0|          0|\n",
      "+----------+----------+------+--------------------+---------+--------------------+-----------+\n",
      "only showing top 15 rows\n",
      "\n"
     ]
    }
   ],
   "source": [
    "\n",
    "df = df.withColumn(\"Shock_Day\", F.when(F.col(\"Daily_Return\") < -2, 1).otherwise(0))\n",
    "window_spec = Window.partitionBy(\"Symbol\").orderBy(\"Date\")\n",
    "\n",
    "df = df.withColumn(\"Next_Day_Return\", F.lead(\"Daily_Return\").over(window_spec))\n",
    "df = df.withColumn(\"Bounce_Back\", F.when(F.col(\"Next_Day_Return\") > 0, 1).otherwise(0))\n",
    "\n",
    "\n",
    "df.select(\"Date\", \"Symbol\", \"Close\", \"Daily_Return\", \"Shock_Day\", \"Next_Day_Return\", \"Bounce_Back\").show(15)\n"
   ]
  },
  {
   "cell_type": "code",
   "execution_count": 13,
   "id": "a21bcfba-3906-431c-94a8-7b5a1e99243f",
   "metadata": {},
   "outputs": [
    {
     "name": "stdout",
     "output_type": "stream",
     "text": [
      "+----------+----------+------+--------------------+---------+--------------------+-----------+\n",
      "|      Date|    Symbol| Close|        Daily_Return|Shock_Day|     Next_Day_Return|Bounce_Back|\n",
      "+----------+----------+------+--------------------+---------+--------------------+-----------+\n",
      "|2008-05-26|BAJAJ-AUTO|604.75|                NULL|        0|                 0.0|          0|\n",
      "|2008-05-26|BAJAJ-AUTO|604.75|                 0.0|        0| -1.9181479950392761|          0|\n",
      "|2008-05-27|BAJAJ-AUTO|593.15| -1.9181479950392761|        0|                 0.0|          0|\n",
      "|2008-05-27|BAJAJ-AUTO|593.15|                 0.0|        0|  2.5288712804518254|          1|\n",
      "|2008-05-28|BAJAJ-AUTO|608.15|  2.5288712804518254|        0|                 0.0|          0|\n",
      "|2008-05-28|BAJAJ-AUTO|608.15|                 0.0|        0| -1.4305681164186357|          0|\n",
      "|2008-05-29|BAJAJ-AUTO|599.45| -1.4305681164186357|        0|                 0.0|          0|\n",
      "|2008-05-29|BAJAJ-AUTO|599.45|                 0.0|        0| -4.6292434731837515|          0|\n",
      "|2008-05-30|BAJAJ-AUTO| 571.7| -4.6292434731837515|        1|                 0.0|          0|\n",
      "|2008-05-30|BAJAJ-AUTO| 571.7|                 0.0|        0|   1.591743921637206|          1|\n",
      "|2008-06-02|BAJAJ-AUTO| 580.8|   1.591743921637206|        0|                 0.0|          0|\n",
      "|2008-06-02|BAJAJ-AUTO| 580.8|                 0.0|        0|-0.18939393939392374|          0|\n",
      "|2008-06-03|BAJAJ-AUTO| 579.7|-0.18939393939392374|        0|                 0.0|          0|\n",
      "|2008-06-03|BAJAJ-AUTO| 579.7|                 0.0|        0|  -4.761083318958086|          0|\n",
      "|2008-06-04|BAJAJ-AUTO| 552.1|  -4.761083318958086|        1|                 0.0|          0|\n",
      "+----------+----------+------+--------------------+---------+--------------------+-----------+\n",
      "only showing top 15 rows\n",
      "\n"
     ]
    }
   ],
   "source": [
    "\n",
    "df = df.withColumn(\"Shock_Day\", F.when(F.col(\"Daily_Return\") < -2, 1).otherwise(0))\n",
    "\n",
    "window_spec = Window.partitionBy(\"Symbol\").orderBy(\"Date\")\n",
    "\n",
    "df = df.withColumn(\"Next_Day_Return\", F.lead(\"Daily_Return\").over(window_spec))\n",
    "\n",
    "df = df.withColumn(\"Bounce_Back\", F.when(F.col(\"Next_Day_Return\") > 0, 1).otherwise(0))\n",
    "\n",
    "df.select(\"Date\", \"Symbol\", \"Close\", \"Daily_Return\", \"Shock_Day\", \"Next_Day_Return\", \"Bounce_Back\").show(15)\n"
   ]
  },
  {
   "cell_type": "code",
   "execution_count": 14,
   "id": "0320ef03-c93d-4b7c-ae7f-3249611ffc65",
   "metadata": {},
   "outputs": [
    {
     "name": "stdout",
     "output_type": "stream",
     "text": [
      "+----------+-----------+-------------------+\n",
      "|num_shocks|num_bounces|bounce_rate_percent|\n",
      "+----------+-----------+-------------------+\n",
      "|32088     |0          |0.0                |\n",
      "+----------+-----------+-------------------+\n",
      "\n"
     ]
    }
   ],
   "source": [
    "# Only consider rows that ARE shock days and have a valid next day\n",
    "shocks = df.filter((F.col(\"Shock_Day\") == 1) & F.col(\"Next_Day_Return\").isNotNull())\n",
    "\n",
    "overall = shocks.agg(\n",
    "    F.count(\"*\").alias(\"num_shocks\"),\n",
    "    F.sum(\"Bounce_Back\").alias(\"num_bounces\"),\n",
    "    (F.avg(F.col(\"Bounce_Back\")) * 100).alias(\"bounce_rate_percent\")\n",
    ")\n",
    "\n",
    "overall.show(truncate=False)\n"
   ]
  },
  {
   "cell_type": "code",
   "execution_count": 15,
   "id": "3b79b8be-065f-4c08-a51b-1d6565af5ada",
   "metadata": {},
   "outputs": [
    {
     "name": "stdout",
     "output_type": "stream",
     "text": [
      "Top 10 symbols by bounce rate:\n",
      "+----------+----------+-----------+-------------------+\n",
      "|Symbol    |num_shocks|num_bounces|bounce_rate_percent|\n",
      "+----------+----------+-----------+-------------------+\n",
      "|ASIANPAINT|415       |0          |0.0                |\n",
      "|AXISBANK  |552       |0          |0.0                |\n",
      "|ADANIPORTS|324       |0          |0.0                |\n",
      "|BAJAJFINSV|444       |0          |0.0                |\n",
      "|BAJAJ-AUTO|291       |0          |0.0                |\n",
      "|BRITANNIA |404       |0          |0.0                |\n",
      "|BAJFINANCE|305       |0          |0.0                |\n",
      "|GAIL      |679       |0          |0.0                |\n",
      "|BAJAUTOFIN|444       |0          |0.0                |\n",
      "|HCLTECH   |874       |0          |0.0                |\n",
      "+----------+----------+-----------+-------------------+\n",
      "only showing top 10 rows\n",
      "\n",
      "Bottom 10 symbols by bounce rate:\n",
      "+----------+----------+-----------+-------------------+\n",
      "|Symbol    |num_shocks|num_bounces|bounce_rate_percent|\n",
      "+----------+----------+-----------+-------------------+\n",
      "|BAJAUTOFIN|444       |0          |0.0                |\n",
      "|ASIANPAINT|415       |0          |0.0                |\n",
      "|BAJAJ-AUTO|291       |0          |0.0                |\n",
      "|BHARTIARTL|524       |0          |0.0                |\n",
      "|ADANIPORTS|324       |0          |0.0                |\n",
      "|COALINDIA |308       |0          |0.0                |\n",
      "|CIPLA     |569       |0          |0.0                |\n",
      "|INFOSYSTCH|465       |0          |0.0                |\n",
      "|AXISBANK  |552       |0          |0.0                |\n",
      "|MARUTI    |546       |0          |0.0                |\n",
      "+----------+----------+-----------+-------------------+\n",
      "only showing top 10 rows\n",
      "\n"
     ]
    }
   ],
   "source": [
    "per_stock = shocks.groupBy(\"Symbol\").agg(\n",
    "    F.count(\"*\").alias(\"num_shocks\"),\n",
    "    F.sum(\"Bounce_Back\").alias(\"num_bounces\"),\n",
    "    (F.avg(\"Bounce_Back\") * 100).alias(\"bounce_rate_percent\")\n",
    ").orderBy(F.col(\"bounce_rate_percent\").desc())\n",
    "\n",
    "print(\"Top 10 symbols by bounce rate:\")\n",
    "per_stock.show(10, truncate=False)\n",
    "\n",
    "print(\"Bottom 10 symbols by bounce rate:\")\n",
    "per_stock.orderBy(F.col(\"bounce_rate_percent\").asc()).show(10, truncate=False)\n"
   ]
  },
  {
   "cell_type": "code",
   "execution_count": 16,
   "id": "2c29cbee-34aa-4d0c-97d6-c663f5a0565b",
   "metadata": {},
   "outputs": [],
   "source": [
    "per_stock.coalesce(1).write.mode(\"overwrite\").option(\"header\", True).csv(\"/home/jovyan/work/output/per_stock_bounce\")\n",
    "overall.coalesce(1).write.mode(\"overwrite\").option(\"header\", True).csv(\"/home/jovyan/work/output/overall_bounce\")\n"
   ]
  },
  {
   "cell_type": "code",
   "execution_count": 17,
   "id": "16b6f576-c865-490f-ac5d-743806e52e2c",
   "metadata": {},
   "outputs": [
    {
     "name": "stdout",
     "output_type": "stream",
     "text": [
      "+----------+-----------+-------------------+\n",
      "|num_shocks|num_bounces|bounce_rate_percent|\n",
      "+----------+-----------+-------------------+\n",
      "|32088     |0          |0.0                |\n",
      "+----------+-----------+-------------------+\n",
      "\n"
     ]
    }
   ],
   "source": [
    "\n",
    "shocks = df.filter((F.col(\"Shock_Day\") == 1) & F.col(\"Next_Day_Return\").isNotNull())\n",
    "\n",
    "\n",
    "overall = shocks.agg(\n",
    "    F.count(\"*\").alias(\"num_shocks\"),\n",
    "    F.sum(\"Bounce_Back\").alias(\"num_bounces\"),\n",
    "    (F.avg(\"Bounce_Back\") * 100).alias(\"bounce_rate_percent\")\n",
    ")\n",
    "\n",
    "overall.show(truncate=False)\n"
   ]
  },
  {
   "cell_type": "code",
   "execution_count": 18,
   "id": "92f6ac23-0b71-4cf7-8b47-d51a536b2b39",
   "metadata": {},
   "outputs": [
    {
     "name": "stdout",
     "output_type": "stream",
     "text": [
      "Top 10 symbols by bounce rate:\n",
      "+----------+----------+-----------+-------------------+\n",
      "|Symbol    |num_shocks|num_bounces|bounce_rate_percent|\n",
      "+----------+----------+-----------+-------------------+\n",
      "|ASIANPAINT|415       |0          |0.0                |\n",
      "|AXISBANK  |552       |0          |0.0                |\n",
      "|BAJAJ-AUTO|291       |0          |0.0                |\n",
      "|BAJAJFINSV|444       |0          |0.0                |\n",
      "|ADANIPORTS|324       |0          |0.0                |\n",
      "|BRITANNIA |404       |0          |0.0                |\n",
      "|CIPLA     |569       |0          |0.0                |\n",
      "|GAIL      |679       |0          |0.0                |\n",
      "|BAJAUTOFIN|444       |0          |0.0                |\n",
      "|HCLTECH   |874       |0          |0.0                |\n",
      "+----------+----------+-----------+-------------------+\n",
      "only showing top 10 rows\n",
      "\n",
      "Bottom 10 symbols by bounce rate:\n",
      "+----------+----------+-----------+-------------------+\n",
      "|Symbol    |num_shocks|num_bounces|bounce_rate_percent|\n",
      "+----------+----------+-----------+-------------------+\n",
      "|BAJAJ-AUTO|291       |0          |0.0                |\n",
      "|BAJAUTOFIN|444       |0          |0.0                |\n",
      "|AXISBANK  |552       |0          |0.0                |\n",
      "|DRREDDY   |572       |0          |0.0                |\n",
      "|ASIANPAINT|415       |0          |0.0                |\n",
      "|GRASIM    |635       |0          |0.0                |\n",
      "|BAJAJFINSV|444       |0          |0.0                |\n",
      "|INDUSINDBK|851       |0          |0.0                |\n",
      "|ADANIPORTS|324       |0          |0.0                |\n",
      "|JSWSTL    |24        |0          |0.0                |\n",
      "+----------+----------+-----------+-------------------+\n",
      "only showing top 10 rows\n",
      "\n"
     ]
    }
   ],
   "source": [
    "per_stock = shocks.groupBy(\"Symbol\").agg(\n",
    "    F.count(\"*\").alias(\"num_shocks\"),\n",
    "    F.sum(\"Bounce_Back\").alias(\"num_bounces\"),\n",
    "    (F.avg(\"Bounce_Back\") * 100).alias(\"bounce_rate_percent\")\n",
    ").orderBy(F.col(\"bounce_rate_percent\").desc())\n",
    "\n",
    "print(\"Top 10 symbols by bounce rate:\")\n",
    "per_stock.show(10, truncate=False)\n",
    "\n",
    "print(\"Bottom 10 symbols by bounce rate:\")\n",
    "per_stock.orderBy(F.col(\"bounce_rate_percent\").asc()).show(10, truncate=False)\n"
   ]
  },
  {
   "cell_type": "code",
   "execution_count": 20,
   "id": "2dd660c6-4a26-4433-b809-1cae637af00c",
   "metadata": {},
   "outputs": [
    {
     "name": "stdout",
     "output_type": "stream",
     "text": [
      "Results saved to /output as both CSV and Parquet \n"
     ]
    }
   ],
   "source": [
    "out_base = \"/home/jovyan/work/output\"\n",
    "\n",
    "overall.coalesce(1).write.mode(\"overwrite\").parquet(f\"{out_base}/overall_bounce.parquet\")\n",
    "overall.toPandas().to_csv(f\"{out_base}/overall_bounce.csv\", index=False)\n",
    "per_stock.coalesce(1).write.mode(\"overwrite\").parquet(f\"{out_base}/per_stock_bounce.parquet\")\n",
    "per_stock.toPandas().to_csv(f\"{out_base}/per_stock_bounce.csv\", index=False)\n",
    "\n",
    "print(\"Results saved to /output as both CSV and Parquet \")\n"
   ]
  },
  {
   "cell_type": "code",
   "execution_count": 21,
   "id": "a0b60b37-29b4-45b4-b655-18272df171e4",
   "metadata": {},
   "outputs": [
    {
     "name": "stdout",
     "output_type": "stream",
     "text": [
      "['overall_bounce', 'overall_bounce.csv', 'overall_bounce.parquet', 'per_stock_bounce', 'per_stock_bounce.csv', 'per_stock_bounce.parquet']\n"
     ]
    }
   ],
   "source": [
    "import os\n",
    "print(os.listdir(out_base))\n"
   ]
  },
  {
   "cell_type": "code",
   "execution_count": null,
   "id": "7c5798fc-9896-479f-9830-98b5dfdce9ce",
   "metadata": {},
   "outputs": [],
   "source": []
  }
 ],
 "metadata": {
  "kernelspec": {
   "display_name": "Python 3 (ipykernel)",
   "language": "python",
   "name": "python3"
  },
  "language_info": {
   "codemirror_mode": {
    "name": "ipython",
    "version": 3
   },
   "file_extension": ".py",
   "mimetype": "text/x-python",
   "name": "python",
   "nbconvert_exporter": "python",
   "pygments_lexer": "ipython3",
   "version": "3.11.6"
  }
 },
 "nbformat": 4,
 "nbformat_minor": 5
}
